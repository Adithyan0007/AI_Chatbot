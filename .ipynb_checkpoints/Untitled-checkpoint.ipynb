{
 "cells": [
  {
   "cell_type": "code",
   "execution_count": 75,
   "id": "db38f5e0",
   "metadata": {},
   "outputs": [],
   "source": [
    "import numpy as np\n",
    "import nltk\n",
    "import string\n",
    "import random"
   ]
  },
  {
   "cell_type": "code",
   "execution_count": 76,
   "id": "5533b0b6",
   "metadata": {},
   "outputs": [],
   "source": [
    "f = open(r\"E:\\portfolio\\ai_chatbot\\data\\data.txt\",\"r\",errors='ignore')\n",
    "raw_doc = f.read()\n"
   ]
  },
  {
   "cell_type": "code",
   "execution_count": 77,
   "id": "a59691a7",
   "metadata": {},
   "outputs": [
    {
     "name": "stderr",
     "output_type": "stream",
     "text": [
      "[nltk_data] Downloading package punkt to\n",
      "[nltk_data]     C:\\Users\\user\\AppData\\Roaming\\nltk_data...\n",
      "[nltk_data]   Package punkt is already up-to-date!\n",
      "[nltk_data] Downloading package wordnet to\n",
      "[nltk_data]     C:\\Users\\user\\AppData\\Roaming\\nltk_data...\n",
      "[nltk_data]   Package wordnet is already up-to-date!\n",
      "[nltk_data] Downloading package omw-1.4 to\n",
      "[nltk_data]     C:\\Users\\user\\AppData\\Roaming\\nltk_data...\n",
      "[nltk_data]   Package omw-1.4 is already up-to-date!\n"
     ]
    }
   ],
   "source": [
    "raw_doc = raw_doc.lower()\n",
    "nltk.download('punkt')\n",
    "nltk.download('wordnet')\n",
    "nltk.download('omw-1.4')\n",
    "sentence_tokens = nltk.sent_tokenize(raw_doc)\n",
    "word_tokens=nltk.word_tokenize(raw_doc)"
   ]
  },
  {
   "cell_type": "code",
   "execution_count": 78,
   "id": "9e827119",
   "metadata": {},
   "outputs": [],
   "source": [
    "lemmer = nltk.stem.WordNetLemmatizer()\n",
    "def LemTokens(tokens):\n",
    "    return [lemmer.lemmatize(token) for token in tokens]\n",
    "remove_punc_dict = dict((ord(punct),None) for punct in string.punctuation)\n",
    "def LemNormalize(text):\n",
    "    return LemTokens(nltk.word_tokenize(text.lower().translate(remove_punc_dict)))"
   ]
  },
  {
   "cell_type": "code",
   "execution_count": 79,
   "id": "9b746d0d",
   "metadata": {},
   "outputs": [],
   "source": [
    "greet_inputs = [\"Hello\",\"Moin\",\"Hola\",\"Hi\",\"Halo\",\"Helo\"]\n",
    "greet_responses = [\"Hello\",\"Moin\",\"Hola\",\"Hi\",\"Halo\",\"Helo\"]\n",
    "def Greet(sentence):\n",
    "    for words in sentence.split():\n",
    "        if words.lower() in greet_inputs:\n",
    "            return random.choice(greet_responses)\n",
    "    \n",
    "    "
   ]
  },
  {
   "cell_type": "code",
   "execution_count": 80,
   "id": "c3cb4a16",
   "metadata": {},
   "outputs": [],
   "source": [
    "from sklearn.feature_extraction.text import TfidfVectorizer\n",
    "from sklearn.metrics.pairwise import cosine_similarity\n"
   ]
  },
  {
   "cell_type": "code",
   "execution_count": 81,
   "id": "62996407",
   "metadata": {},
   "outputs": [],
   "source": [
    "def response(user_response):\n",
    "    robo1_response=''\n",
    "    TfIdfVec = TfidfVectorizer(tokenizer=LemNormalize,stop_words='english')\n",
    "    tfidf = TfIdfVec.fit_transform(sentence_tokens)\n",
    "    vals=cosine_similarity(tfidf[-1],tfidf)\n",
    "    idx=vals.argsort()[0][-2]\n",
    "    flat=vals.flatten()\n",
    "    flat.sort()\n",
    "    req_tfidf=flat[-2]\n",
    "    print(flat[-2])\n",
    "    if (req_tfidf == 0):\n",
    "        robo1_response=robo1_response+\"I am sorry unable to understand you ...\"\n",
    "    else:\n",
    "        robo1_response=robo1_response+sentence_tokens[idx]\n",
    "        return robo1_response"
   ]
  },
  {
   "cell_type": "code",
   "execution_count": null,
   "id": "8e3a0085",
   "metadata": {},
   "outputs": [
    {
     "name": "stdout",
     "output_type": "stream",
     "text": [
      "Hi I am a test bot , start typing your text after greeting me to start chatting, end the convo by saying bye\n",
      "hi\n",
      "Bots :0.0\n",
      "None\n",
      "0.0\n",
      "None\n"
     ]
    }
   ],
   "source": [
    "flag=True\n",
    "print(\"Hi I am a test bot , start typing your text after greeting me to start chatting, end the convo by saying bye\")\n",
    "while(flag == True):\n",
    "    user_response = input()\n",
    "    user_response = user_response.lower()\n",
    "    if(user_response!='bye'):\n",
    "        if (user_response==\"thank you\" or user_response==\"thanks\"):\n",
    "            flag=False\n",
    "            print(\"Bot : You are welcome\")\n",
    "        else:\n",
    "#             flag=False\n",
    "            sentence_tokens.append(user_response)\n",
    "            word_tokens = word_tokens + nltk.word_tokenize(user_response)\n",
    "            final__words = list(set(word_tokens))\n",
    "            print('Bots :',end='')\n",
    "            print(response(user_response))\n",
    "            sentence_tokens.remove(user_response)\n",
    "    else:\n",
    "        flag=False\n",
    "        print(\"Goodbye\")"
   ]
  },
  {
   "cell_type": "code",
   "execution_count": null,
   "id": "f27f97b0",
   "metadata": {},
   "outputs": [],
   "source": []
  },
  {
   "cell_type": "code",
   "execution_count": null,
   "id": "3737e592",
   "metadata": {},
   "outputs": [],
   "source": []
  }
 ],
 "metadata": {
  "kernelspec": {
   "display_name": "Python 3 (ipykernel)",
   "language": "python",
   "name": "python3"
  },
  "language_info": {
   "codemirror_mode": {
    "name": "ipython",
    "version": 3
   },
   "file_extension": ".py",
   "mimetype": "text/x-python",
   "name": "python",
   "nbconvert_exporter": "python",
   "pygments_lexer": "ipython3",
   "version": "3.11.3"
  }
 },
 "nbformat": 4,
 "nbformat_minor": 5
}
